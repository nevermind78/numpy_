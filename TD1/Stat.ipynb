{
 "cells": [
  {
   "attachments": {},
   "cell_type": "markdown",
   "metadata": {},
   "source": [
    "# Exercices\n",
    "\n",
    "## Exercice 1 :\n",
    "\n",
    "1. Dans une petite société, le patron gagne chaque mois 10\\,000\n",
    "  euros et ses 9 employés gagnent eux 1500 euros. \n",
    "  Quel est le salaire moyen dans l'entreprise ? Le salaire médian ?\n",
    "\n",
    "\n",
    "2. Rechercher les montants des salaires moyen et médian en France.  \n",
    "  Commenter.\n",
    "\n"
   ]
  },
  {
   "cell_type": "code",
   "execution_count": 23,
   "metadata": {},
   "outputs": [],
   "source": [
    "data =[10_000]\n",
    "for u in range(9):\n",
    "    data.append(1500)"
   ]
  },
  {
   "cell_type": "code",
   "execution_count": 24,
   "metadata": {},
   "outputs": [
    {
     "data": {
      "text/plain": [
       "[10000, 1500, 1500, 1500, 1500, 1500, 1500, 1500, 1500, 1500]"
      ]
     },
     "execution_count": 24,
     "metadata": {},
     "output_type": "execute_result"
    }
   ],
   "source": [
    "data"
   ]
  },
  {
   "cell_type": "code",
   "execution_count": 25,
   "metadata": {},
   "outputs": [],
   "source": [
    "moyenne =lambda L:sum(L)/len(L) if len(L)!=0 else 0"
   ]
  },
  {
   "cell_type": "code",
   "execution_count": 26,
   "metadata": {},
   "outputs": [
    {
     "data": {
      "text/plain": [
       "2350.0"
      ]
     },
     "execution_count": 26,
     "metadata": {},
     "output_type": "execute_result"
    }
   ],
   "source": [
    "moyenne(data)"
   ]
  },
  {
   "cell_type": "code",
   "execution_count": 27,
   "metadata": {},
   "outputs": [],
   "source": [
    "liste=[12,34,21,15,16,19,22]\n"
   ]
  },
  {
   "cell_type": "code",
   "execution_count": 28,
   "metadata": {},
   "outputs": [
    {
     "data": {
      "text/plain": [
       "[12, 15, 16, 19, 21, 22, 34]"
      ]
     },
     "execution_count": 28,
     "metadata": {},
     "output_type": "execute_result"
    }
   ],
   "source": [
    "liste.sort()\n",
    "liste"
   ]
  },
  {
   "attachments": {},
   "cell_type": "markdown",
   "metadata": {},
   "source": [
    "trier la liste\n",
    "\n",
    "liste --> [12, 15, 16, 19, 21, 22, 34]\n",
    "\n",
    "la longuer de la liste = 7\n",
    "\n",
    "la valeur au milieux c'est 19 , 19 est la mediane de la série \n",
    "\n",
    "L=[21,12,45,16]\n",
    "\n",
    "L--> [12,16,21,45]  la longueur de laliste est 4 ,la medianne $\\frac{16+21}{2}$\n",
    "\n",
    "\n",
    "\n",
    "\n"
   ]
  },
  {
   "cell_type": "code",
   "execution_count": 29,
   "metadata": {},
   "outputs": [
    {
     "data": {
      "text/plain": [
       "3"
      ]
     },
     "execution_count": 29,
     "metadata": {},
     "output_type": "execute_result"
    }
   ],
   "source": [
    "7//2"
   ]
  },
  {
   "cell_type": "code",
   "execution_count": 30,
   "metadata": {},
   "outputs": [],
   "source": [
    "def medianne(L):\n",
    "    if L==[]:\n",
    "        return 0\n",
    "    L.sort()\n",
    "    if len(L) % 2 ==1:\n",
    "        return L[len(L)//2]\n",
    "    else:\n",
    "        return (L[len(L)//2 -1] +L[len(L)//2])/2"
   ]
  },
  {
   "cell_type": "code",
   "execution_count": 31,
   "metadata": {},
   "outputs": [
    {
     "data": {
      "text/plain": [
       "19"
      ]
     },
     "execution_count": 31,
     "metadata": {},
     "output_type": "execute_result"
    }
   ],
   "source": [
    "medianne(liste)"
   ]
  },
  {
   "cell_type": "code",
   "execution_count": 32,
   "metadata": {},
   "outputs": [
    {
     "data": {
      "text/plain": [
       "18.5"
      ]
     },
     "execution_count": 32,
     "metadata": {},
     "output_type": "execute_result"
    }
   ],
   "source": [
    "medianne([21,12,45,16])"
   ]
  },
  {
   "cell_type": "code",
   "execution_count": 33,
   "metadata": {},
   "outputs": [
    {
     "data": {
      "text/plain": [
       "0"
      ]
     },
     "execution_count": 33,
     "metadata": {},
     "output_type": "execute_result"
    }
   ],
   "source": [
    "medianne([])"
   ]
  },
  {
   "cell_type": "code",
   "execution_count": 34,
   "metadata": {},
   "outputs": [
    {
     "name": "stdout",
     "output_type": "stream",
     "text": [
      " la moyenne des salaires est 2350.0 € , la medianne des salaires est 1500.0 €\n"
     ]
    }
   ],
   "source": [
    "print(f' la moyenne des salaires est {moyenne(data)} € , la medianne des salaires est {medianne(data)} €')"
   ]
  },
  {
   "cell_type": "code",
   "execution_count": 35,
   "metadata": {},
   "outputs": [],
   "source": [
    "import matplotlib.pyplot as plt"
   ]
  },
  {
   "cell_type": "code",
   "execution_count": 36,
   "metadata": {},
   "outputs": [
    {
     "data": {
      "text/plain": [
       "<BarContainer object of 10 artists>"
      ]
     },
     "execution_count": 36,
     "metadata": {},
     "output_type": "execute_result"
    },
    {
     "data": {
      "image/png": "[encoded data removed]",
      "text/plain": [
       "<Figure size 640x480 with 1 Axes>"
      ]
     },
     "metadata": {},
     "output_type": "display_data"
    }
   ],
   "source": [
    "plt.bar(list(range(10)),data)\n"
   ]
  },
  {
   "attachments": {},
   "cell_type": "markdown",
   "metadata": {},
   "source": [
    "> la medianne est utilisée quand la liste est asymétrique  ou dans la présence de donnée outliers.\n",
    "> \n",
    "> la moyenne surtout quand on a une série de donnée homogéne ou symétrique"
   ]
  },
  {
   "cell_type": "code",
   "execution_count": 37,
   "metadata": {},
   "outputs": [],
   "source": [
    "import numpy as np"
   ]
  },
  {
   "cell_type": "code",
   "execution_count": 38,
   "metadata": {},
   "outputs": [],
   "source": [
    "data=np.array(data)"
   ]
  },
  {
   "cell_type": "code",
   "execution_count": 39,
   "metadata": {},
   "outputs": [
    {
     "data": {
      "text/plain": [
       "array([ 1500,  1500,  1500,  1500,  1500,  1500,  1500,  1500,  1500,\n",
       "       10000])"
      ]
     },
     "execution_count": 39,
     "metadata": {},
     "output_type": "execute_result"
    }
   ],
   "source": [
    "data"
   ]
  },
  {
   "cell_type": "code",
   "execution_count": 40,
   "metadata": {},
   "outputs": [
    {
     "data": {
      "text/plain": [
       "2350.0"
      ]
     },
     "execution_count": 40,
     "metadata": {},
     "output_type": "execute_result"
    }
   ],
   "source": [
    "data.mean()"
   ]
  },
  {
   "cell_type": "code",
   "execution_count": 41,
   "metadata": {},
   "outputs": [
    {
     "data": {
      "text/plain": [
       "1500.0"
      ]
     },
     "execution_count": 41,
     "metadata": {},
     "output_type": "execute_result"
    }
   ],
   "source": [
    "np.median(data)"
   ]
  },
  {
   "cell_type": "code",
   "execution_count": 42,
   "metadata": {},
   "outputs": [],
   "source": [
    "import pandas as pd"
   ]
  },
  {
   "cell_type": "code",
   "execution_count": 43,
   "metadata": {},
   "outputs": [],
   "source": [
    "df=pd.DataFrame(data,columns=[\"salaire\"])"
   ]
  },
  {
   "cell_type": "code",
   "execution_count": 44,
   "metadata": {},
   "outputs": [
    {
     "data": {
      "text/html": [
       "<div>\n",
       "<style scoped>\n",
       "    .dataframe tbody tr th:only-of-type {\n",
       "        vertical-align: middle;\n",
       "    }\n",
       "\n",
       "    .dataframe tbody tr th {\n",
       "        vertical-align: top;\n",
       "    }\n",
       "\n",
       "    .dataframe thead th {\n",
       "        text-align: right;\n",
       "    }\n",
       "</style>\n",
       "<table border=\"1\" class=\"dataframe\">\n",
       "  <thead>\n",
       "    <tr style=\"text-align: right;\">\n",
       "      <th></th>\n",
       "      <th>salaire</th>\n",
       "    </tr>\n",
       "  </thead>\n",
       "  <tbody>\n",
       "    <tr>\n",
       "      <th>0</th>\n",
       "      <td>1500</td>\n",
       "    </tr>\n",
       "    <tr>\n",
       "      <th>1</th>\n",
       "      <td>1500</td>\n",
       "    </tr>\n",
       "    <tr>\n",
       "      <th>2</th>\n",
       "      <td>1500</td>\n",
       "    </tr>\n",
       "    <tr>\n",
       "      <th>3</th>\n",
       "      <td>1500</td>\n",
       "    </tr>\n",
       "    <tr>\n",
       "      <th>4</th>\n",
       "      <td>1500</td>\n",
       "    </tr>\n",
       "    <tr>\n",
       "      <th>5</th>\n",
       "      <td>1500</td>\n",
       "    </tr>\n",
       "    <tr>\n",
       "      <th>6</th>\n",
       "      <td>1500</td>\n",
       "    </tr>\n",
       "    <tr>\n",
       "      <th>7</th>\n",
       "      <td>1500</td>\n",
       "    </tr>\n",
       "    <tr>\n",
       "      <th>8</th>\n",
       "      <td>1500</td>\n",
       "    </tr>\n",
       "    <tr>\n",
       "      <th>9</th>\n",
       "      <td>10000</td>\n",
       "    </tr>\n",
       "  </tbody>\n",
       "</table>\n",
       "</div>"
      ],
      "text/plain": [
       "   salaire\n",
       "0     1500\n",
       "1     1500\n",
       "2     1500\n",
       "3     1500\n",
       "4     1500\n",
       "5     1500\n",
       "6     1500\n",
       "7     1500\n",
       "8     1500\n",
       "9    10000"
      ]
     },
     "execution_count": 44,
     "metadata": {},
     "output_type": "execute_result"
    }
   ],
   "source": [
    "df"
   ]
  },
  {
   "cell_type": "code",
   "execution_count": 45,
   "metadata": {},
   "outputs": [
    {
     "data": {
      "text/plain": [
       "<AxesSubplot:>"
      ]
     },
     "execution_count": 45,
     "metadata": {},
     "output_type": "execute_result"
    },
    {
     "data": {
      "image/png": "[encoded data removed]",
      "text/plain": [
       "<Figure size 640x480 with 1 Axes>"
      ]
     },
     "metadata": {},
     "output_type": "display_data"
    }
   ],
   "source": [
    "df.boxplot(\"salaire\")"
   ]
  },
  {
   "attachments": {},
   "cell_type": "markdown",
   "metadata": {},
   "source": [
    "## Exercice 2\n",
    "$x_i:$ les notes de l'élève $i$\n",
    "\n",
    "$n_i:$ les nombres d'élève qui ont eu la note $x_i$\n",
    "$$\\begin{array}{|c|c|c|c|c|c|c|}\\hline\n",
    "   x_i & 6 & 8 & 10 & 12 & 15 & 18 \\\\\\hline\n",
    "    n_i & 1 & 5 & 3 & 4 & 2 & 2 \\\\\\hline\n",
    "  \\end{array}$$\n",
    "\n",
    "\n",
    "\n",
    "Calculer  :\n",
    "\n",
    "1. $\\bar{x}$\n",
    "2. $V$\n",
    "3. $N =\\sum_i n_i$\n",
    "4. $\\sigma$\n",
    "5.  ..."
   ]
  },
  {
   "cell_type": "code",
   "execution_count": 46,
   "metadata": {},
   "outputs": [
    {
     "name": "stdout",
     "output_type": "stream",
     "text": [
      " la moyenne de la classe est  11.176470588235293\n"
     ]
    },
    {
     "data": {
      "text/plain": [
       "11.176470588235293"
      ]
     },
     "execution_count": 46,
     "metadata": {},
     "output_type": "execute_result"
    }
   ],
   "source": [
    "xi=np.array([6,8,10,12,15,18])\n",
    "ni=np.array([1,5,3,4,2,2])\n",
    "\n",
    "xbar= sum(xi*ni)/sum(ni)\n",
    "print(f' la moyenne de la classe est  {xbar}')\n",
    "# autre méthode \n",
    "np.average(xi,weights=ni)"
   ]
  },
  {
   "attachments": {},
   "cell_type": "markdown",
   "metadata": {},
   "source": [
    "$\\newcommand{\\nwc}{\\newcommand}\n",
    "\\newcommand{\\la}{\\left\\{}\\nwc{\\ra}{\\right\\}}\n",
    "\\newcommand{\\lp}{\\left(}\\nwc{\\rp}{\\right)}\n",
    "\\newcommand{\\lb}{\\left[}\\nwc{\\rb}{\\right]}\n",
    "$"
   ]
  },
  {
   "attachments": {},
   "cell_type": "markdown",
   "metadata": {},
   "source": [
    "\n",
    "\n",
    "$$V  =\\dfrac{n_1\\lp x_1-\\overline{x}\\rp^2+n_2\\lp x_2-\\overline{x}\\rp^2+\\dots\n",
    "  n_N\\lp x_N-\\overline{x}\\rp^2}{N}$$\n",
    "$$V  =\\dfrac{n_1}{N}\\lp x_1-\\overline{x}\\rp^2+\\dots\n",
    "  \\dfrac{n_N}{N}\\lp x_N-\\overline{x}\\rp^2$$"
   ]
  },
  {
   "cell_type": "code",
   "execution_count": 47,
   "metadata": {},
   "outputs": [
    {
     "data": {
      "text/plain": [
       "12.145328719723183"
      ]
     },
     "execution_count": 47,
     "metadata": {},
     "output_type": "execute_result"
    }
   ],
   "source": [
    "# première méthode \n",
    "variance =sum(ni*(xi-xbar)**2)/sum(ni)\n",
    "variance"
   ]
  },
  {
   "attachments": {},
   "cell_type": "markdown",
   "metadata": {},
   "source": [
    "```xi=[x1,x2,x3,...,xn]```\n",
    "\n",
    "```error_squared =(xi-xbar)**2``` ===> [(x1,-xbar)**2 ,...,(x1,-xbar)**2]\n",
    "\n",
    "\n",
    "```ẁeights =[n1/N,n2/N,....,nN/N]``` ===> ni*1/sum(ni)\n",
    "\n",
    "\n",
    "```Variance``` = moyenne  des érreurs quadratiques pondées par les {ni/N}\n",
    "\n",
    "```V=Moyenne((xi-xbar)**2*ni/sum(N))=np.average((xi-xbar)**2,weights=ni/sum(ni))```"
   ]
  },
  {
   "cell_type": "code",
   "execution_count": 48,
   "metadata": {},
   "outputs": [
    {
     "data": {
      "text/plain": [
       "12.145328719723183"
      ]
     },
     "execution_count": 48,
     "metadata": {},
     "output_type": "execute_result"
    }
   ],
   "source": [
    "# deuxièm eméthode \n",
    "np.average((xi-xbar)**2,weights=ni/sum(ni))"
   ]
  },
  {
   "attachments": {},
   "cell_type": "markdown",
   "metadata": {},
   "source": [
    "$$V=\\bar{x^2}-\\bar{x}^2"
   ]
  },
  {
   "cell_type": "code",
   "execution_count": 49,
   "metadata": {},
   "outputs": [
    {
     "data": {
      "text/plain": [
       "12.145328719723196"
      ]
     },
     "execution_count": 49,
     "metadata": {},
     "output_type": "execute_result"
    }
   ],
   "source": [
    "barx2=np.average(xi**2,weights=ni)\n",
    "barx2-xbar**2"
   ]
  },
  {
   "cell_type": "code",
   "execution_count": 50,
   "metadata": {},
   "outputs": [
    {
     "name": "stdout",
     "output_type": "stream",
     "text": [
      "l' écart type est 3.485014880846737\n"
     ]
    }
   ],
   "source": [
    "ecarttype=np.sqrt(barx2-xbar**2)\n",
    "print(f\"l' écart type est {ecarttype}\")"
   ]
  },
  {
   "attachments": {},
   "cell_type": "markdown",
   "metadata": {},
   "source": [
    "# les notes bruts des élèves\n",
    "$x_i:$ les notes de l'élève $i$\n",
    "\n",
    "$n_i:$ les nombres d'élève qui ont eu la note $x_i$\n",
    "$$\\begin{array}{|c|c|c|c|c|c|c|}\\hline\n",
    "   x_i & 6 & 8 & 10 & 12 & 15 & 18 \\\\\\hline\n",
    "    n_i & 1 & 5 & 3 & 4 & 2 & 2 \\\\\\hline\n",
    "  \\end{array}$$\n",
    "\n",
    "retrouver les données à l'état brut par un script python c'est à dire \n",
    "\n",
    "transformer le tableau des données en [**6**,8,8,8,8,8,10,10,**10**,12,12,12,12,15,15,18,**18**]"
   ]
  },
  {
   "cell_type": "code",
   "execution_count": 51,
   "metadata": {},
   "outputs": [
    {
     "data": {
      "text/plain": [
       "10"
      ]
     },
     "execution_count": 51,
     "metadata": {},
     "output_type": "execute_result"
    }
   ],
   "source": [
    "liste_des_note=[]\n",
    "for i in range(len(xi)):\n",
    "    liste_des_note.extend([xi[i] for j in range(ni[i])])\n",
    "liste_des_note\n",
    "\n",
    "medianne(liste_des_note)"
   ]
  },
  {
   "cell_type": "code",
   "execution_count": 54,
   "metadata": {},
   "outputs": [
    {
     "data": {
      "text/plain": [
       "(array([1., 5., 0., 3., 0., 4., 0., 2., 0., 2.]),\n",
       " array([ 6. ,  7.2,  8.4,  9.6, 10.8, 12. , 13.2, 14.4, 15.6, 16.8, 18. ]),\n",
       " <BarContainer object of 10 artists>)"
      ]
     },
     "execution_count": 54,
     "metadata": {},
     "output_type": "execute_result"
    },
    {
     "data": {
      "image/png": "[encoded data removed]",
      "text/plain": [
       "<Figure size 640x480 with 1 Axes>"
      ]
     },
     "metadata": {},
     "output_type": "display_data"
    }
   ],
   "source": [
    "plt.hist(liste_des_note)"
   ]
  },
  {
   "cell_type": "code",
   "execution_count": 56,
   "metadata": {},
   "outputs": [
    {
     "data": {
      "image/png": "[encoded data removed]",
      "text/plain": [
       "<Figure size 640x480 with 1 Axes>"
      ]
     },
     "metadata": {},
     "output_type": "display_data"
    }
   ],
   "source": [
    "plt.boxplot(liste_des_note)\n",
    "plt.show()"
   ]
  },
  {
   "cell_type": "code",
   "execution_count": 61,
   "metadata": {},
   "outputs": [
    {
     "data": {
      "text/plain": [
       "array([ 6.,  8., 10., 12., 18.])"
      ]
     },
     "execution_count": 61,
     "metadata": {},
     "output_type": "execute_result"
    }
   ],
   "source": [
    "np.percentile(liste_des_note,[0,25,50,75,100])"
   ]
  },
  {
   "attachments": {},
   "cell_type": "markdown",
   "metadata": {},
   "source": [
    "# Exercice 6 :\n",
    "\n",
    "$x_i:$ Nombre d’internautes connectés (en millier)\n",
    "\n",
    "$y_i:$ Durée de chargement (en secondes)\n",
    "$$\\begin{array}{|c|c|c|c|c|c|c|c|}\\hline\n",
    "   x_i & 0.5 & 1 & 2.5 & 3 & 4 & 5 & 6 \\\\\\hline\n",
    "    y_i & 0.3 & 0.4 & 0.6 & 0.9 & 1.3 & 2&2.8 \\\\\\hline\n",
    "  \\end{array}$$\n",
    "\n",
    "1. Représenter le nuage de points de coordonnées $(x_i; y_i)$ associés à cette série statistique. \n",
    "2. A l’aide de python, déterminer l’équation y = ax + b de la droite d’ajustement D obtenue\n",
    "par la méthode des moindres carrés (Arrondir les coefficients au milliéme).\n",
    "\n",
    "1. Pour la suite, on prendra $y = 0.44x - 0.19$ pour équation de la droite D.\n",
    "   \n",
    "a. Tracer la droite D.\n",
    "\n",
    "b.  Avec ce modèle, estimer la durée de chargement pour 8000 personnes connectées.\n",
    "\n",
    "c. Une  étude indépendante a montré que 60% des internautes cesse de charger une page pour se\n",
    "diriger vers un autre site dès que le temps de chargement dépasse 3,5 secondes.\n",
    "Avec le modèle précédent, estimer le nombre de visiteurs sur ce site lorsque la durée de char-\n",
    "gement est de 3,5 secondes.\n",
    "Combien de visiteurs perdrait-il alors ?"
   ]
  },
  {
   "cell_type": "code",
   "execution_count": 72,
   "metadata": {},
   "outputs": [],
   "source": [
    "xi=[0.5,1,2.5,3,4,5,6]\n",
    "yi=[0.3,0.4,0.6,0.9,1.3,2,2.8]"
   ]
  },
  {
   "cell_type": "code",
   "execution_count": 76,
   "metadata": {},
   "outputs": [
    {
     "data": {
      "image/png": "[encoded data removed]",
      "text/plain": [
       "<Figure size 640x480 with 1 Axes>"
      ]
     },
     "metadata": {},
     "output_type": "display_data"
    }
   ],
   "source": [
    "\n",
    "fig, ax = plt.subplots()\n",
    "ax.set_xlim(0, 7)\n",
    "ax.set_ylim(0, 3)\n",
    "plt.xlabel(\"Nombre d'internaute connectés\")\n",
    "plt.ylabel(\" Durée de chargement\")\n",
    "plt.title(\"Nombre d'internaute connectée / chargement\")\n",
    "plt.scatter(xi,yi)\n",
    "plt.grid()"
   ]
  },
  {
   "cell_type": "code",
   "execution_count": 91,
   "metadata": {},
   "outputs": [
    {
     "data": {
      "text/plain": [
       "array([[0.5, 1. ],\n",
       "       [1. , 1. ],\n",
       "       [2.5, 1. ],\n",
       "       [3. , 1. ],\n",
       "       [4. , 1. ],\n",
       "       [5. , 1. ],\n",
       "       [6. , 1. ]])"
      ]
     },
     "execution_count": 91,
     "metadata": {},
     "output_type": "execute_result"
    }
   ],
   "source": [
    "# numpy.linalg.lstsq \n",
    "\n",
    "A=np.vstack([xi,np.ones(len(xi))]).T # T pour la transposée\n",
    "A"
   ]
  },
  {
   "cell_type": "code",
   "execution_count": 93,
   "metadata": {},
   "outputs": [],
   "source": [
    "a,b=np.linalg.lstsq(A,yi,rcond=None)[0]"
   ]
  },
  {
   "cell_type": "code",
   "execution_count": 96,
   "metadata": {},
   "outputs": [
    {
     "name": "stdout",
     "output_type": "stream",
     "text": [
      " l'équation de la droite de regression linéaire est donné par  y=0.438x+-0.190\n"
     ]
    }
   ],
   "source": [
    "print(f\" l'équation de la droite de regression linéaire est donné par  y={a:.3f}x+{b:.3f}\")"
   ]
  },
  {
   "cell_type": "code",
   "execution_count": 99,
   "metadata": {},
   "outputs": [
    {
     "data": {
      "image/png": "[encoded data removed]",
      "text/plain": [
       "<Figure size 640x480 with 1 Axes>"
      ]
     },
     "metadata": {},
     "output_type": "display_data"
    }
   ],
   "source": [
    "t=np.linspace(0,7,101)\n",
    "y=a*t+b;\n",
    "fig, ax = plt.subplots()\n",
    "ax.set_xlim(0, 7)\n",
    "ax.set_ylim(0, 3)\n",
    "plt.xlabel(\"Nombre d'internaute connectés\")\n",
    "plt.ylabel(\" Durée de chargement\")\n",
    "plt.title(\"Nombre d'internaute connectée / chargement\")\n",
    "plt.scatter(xi,yi)\n",
    "plt.plot(t,y,'r', label=f'y={a:.3f}x {b:.3f}')\n",
    "plt.legend()\n",
    "plt.grid()"
   ]
  },
  {
   "cell_type": "code",
   "execution_count": 101,
   "metadata": {},
   "outputs": [],
   "source": [
    "prediction=lambda x :a*x+b"
   ]
  },
  {
   "cell_type": "code",
   "execution_count": 103,
   "metadata": {},
   "outputs": [
    {
     "data": {
      "text/plain": [
       "3.312316715542522"
      ]
     },
     "execution_count": 103,
     "metadata": {},
     "output_type": "execute_result"
    }
   ],
   "source": [
    "#x=8000 personnes = 8 uni avec uni = 1000\n",
    "x=8\n",
    "prediction(x)"
   ]
  },
  {
   "cell_type": "code",
   "execution_count": 105,
   "metadata": {},
   "outputs": [
    {
     "name": "stdout",
     "output_type": "stream",
     "text": [
      " la durée de chargement pour 8 miles personnes est 3.312316715542522 secondes \n"
     ]
    }
   ],
   "source": [
    "print(f\" la durée de chargement pour {x} miles personnes est {prediction(x)} secondes \")"
   ]
  },
  {
   "cell_type": "code",
   "execution_count": null,
   "metadata": {},
   "outputs": [],
   "source": []
  }
 ],
 "metadata": {
  "kernelspec": {
   "display_name": "base",
   "language": "python",
   "name": "python3"
  },
  "language_info": {
   "codemirror_mode": {
    "name": "ipython",
    "version": 3
   },
   "file_extension": ".py",
   "mimetype": "text/x-python",
   "name": "python",
   "nbconvert_exporter": "python",
   "pygments_lexer": "ipython3",
   "version": "3.9.13"
  },
  "orig_nbformat": 4,
  "vscode": {
   "interpreter": {
    "hash": "dd2f083c7091592f6e910b42e81e3d9326587f6134c1427a9ed8e8691fd16a23"
   }
  }
 },
 "nbformat": 4,
 "nbformat_minor": 2
}
